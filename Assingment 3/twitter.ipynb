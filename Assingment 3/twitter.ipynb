{
 "cells": [
  {
   "cell_type": "code",
   "execution_count": null,
   "metadata": {},
   "outputs": [],
   "source": [
    "import pandas as pd\n",
    "import json"
   ]
  },
  {
   "cell_type": "code",
   "execution_count": null,
   "metadata": {},
   "outputs": [],
   "source": [
    "df = pd.read_csv(\"data.csv\", sep=',(?=\\S)', engine='python')\n",
    "def delete_quotes(x):\n",
    "    return x[1:-1]\n",
    "for column in [\"id\", \"screenName\", \"avatar\", \"lang\", \"tweetId\"]:\n",
    "    df[column] = df[column].apply(delete_quotes)\n",
    "for column in [\"tags\", \"friends\"]:\n",
    "    df[column] = df[column].apply(lambda x: json.loads(x))\n"
   ]
  },
  {
   "cell_type": "code",
   "execution_count": null,
   "metadata": {},
   "outputs": [],
   "source": [
    "df.info()"
   ]
  },
  {
   "cell_type": "code",
   "execution_count": null,
   "metadata": {},
   "outputs": [],
   "source": [
    "largest = []\n",
    "for index, row in df.iterrows():\n",
    "    if len(row['tags']) == 3:\n",
    "        largest.append(row['id'])\n",
    "    print(row['id'], row['tags'])"
   ]
  },
  {
   "cell_type": "code",
   "execution_count": null,
   "metadata": {},
   "outputs": [],
   "source": [
    "ids = ['3151187359','2269854223','3711454276']\n",
    "tar = df[df['id'] == '3151187359']['screenName'].tolist()\n",
    "tar = df[df['id'] == '3151187359']['tags'].tolist()\n",
    "tar[0]"
   ]
  },
  {
   "cell_type": "code",
   "execution_count": null,
   "metadata": {},
   "outputs": [],
   "source": [
    "distance = []\n",
    "base = '3151187359'\n",
    "for index, row in df.iterrows():\n",
    "    user = df[df['id'] == base]['tags'].tolist()[0]\n",
    "    target = df[df['id'] == row['id']]['tags'].tolist()[0]\n",
    "    numerator = len(set(user).intersection(set(target)))\n",
    "    denomenator = len(set(user).union(set(target)))\n",
    "    distance.append({\n",
    "        'user':row['screenName'],\n",
    "        'similarity': numerator/denomenator\n",
    "    })\n",
    "print(distance)"
   ]
  },
  {
   "cell_type": "code",
   "execution_count": null,
   "metadata": {},
   "outputs": [],
   "source": [
    "\n",
    "for similar_tags in sorted(distance, key=lambda x: x[\"similarity\"], reverse=True)[:10]:\n",
    "    print(similar_tags['user'], similar_tags['similarity'])\n",
    "    for i in list(df[df['screenName']==similar_tags['user']]['tags'])[0]:\n",
    "        print(\"\\t\",i)"
   ]
  },
  {
   "cell_type": "code",
   "execution_count": null,
   "metadata": {},
   "outputs": [],
   "source": [
    "distance2 = []\n",
    "\n",
    "base = '2269854223'\n",
    "for index, row in df.iterrows():\n",
    "    user = df[df['id'] == base]['tags'].tolist()[0]\n",
    "    target = df[df['id'] == row['id']]['tags'].tolist()[0]\n",
    "    numerator = len(set(user).intersection(set(target)))\n",
    "    denomenator = len(set(user).union(set(target)))\n",
    "    distance2.append({\n",
    "        'user':row['screenName'],\n",
    "        'similarity': numerator/denomenator\n",
    "    })\n",
    "print(distance2)"
   ]
  },
  {
   "cell_type": "code",
   "execution_count": null,
   "metadata": {},
   "outputs": [],
   "source": [
    "for similar_tags in sorted(distance2, key=lambda x: x[\"similarity\"], reverse=True)[:10]:\n",
    "    print(similar_tags['user'], similar_tags['similarity'])\n",
    "    for i in list(df[df['screenName']==similar_tags['user']]['tags'])[0]:\n",
    "        print(\"\\t\",i)"
   ]
  },
  {
   "cell_type": "code",
   "execution_count": null,
   "metadata": {},
   "outputs": [],
   "source": [
    "distance3 = []\n",
    "\n",
    "base = '3711454276'\n",
    "for index, row in df.iterrows():\n",
    "    user = df[df['id'] == base]['tags'].tolist()[0]\n",
    "    target = df[df['id'] == row['id']]['tags'].tolist()[0]\n",
    "    numerator = len(set(user).intersection(set(target)))\n",
    "    denomenator = len(set(user).union(set(target)))\n",
    "    distance3.append({\n",
    "        'user':row['screenName'],\n",
    "        'similarity': numerator/denomenator\n",
    "    })\n",
    "print(distance3)"
   ]
  },
  {
   "cell_type": "code",
   "execution_count": null,
   "metadata": {},
   "outputs": [],
   "source": [
    "\n",
    "for similar_tags in sorted(distance3, key=lambda x: x[\"similarity\"], reverse=True)[:10]:\n",
    "    print(similar_tags['user'], similar_tags['similarity'])\n",
    "    for i in list(df[df['screenName']==similar_tags['user']]['tags'])[0]:\n",
    "        print(\"\\t\",i)"
   ]
  },
  {
   "cell_type": "code",
   "execution_count": null,
   "metadata": {},
   "outputs": [],
   "source": [
    "nameList = ['LiamJamesTommo','moonlitlarrie','aya_elbasyony']\n",
    "for curr in nameList:\n",
    "    original = set(df[df['screenName'] == 'sarahhh8042']['friends'].tolist()[0])\n",
    "    target = set(df[df['screenName'] == curr]['friends'].tolist()[0])\n",
    "    print(target.intersection(curr))"
   ]
  },
  {
   "cell_type": "code",
   "execution_count": null,
   "metadata": {},
   "outputs": [],
   "source": [
    "nameList = ['I_NeedA_Placebo','laurenftac','itsmaddiexoxo13']\n",
    "for curr in nameList:\n",
    "    original = set(df[df['screenName'] == 'Happylouistommo']['friends'].tolist()[0])\n",
    "    target = set(df[df['screenName'] == curr]['friends'].tolist()[0])\n",
    "    print(target.intersection(curr))"
   ]
  },
  {
   "cell_type": "code",
   "execution_count": null,
   "metadata": {},
   "outputs": [],
   "source": [
    "nameList = ['Ilyynjh', 'milkandmalum', 'just_liz101']\n",
    "for curr in nameList:\n",
    "    original = set(df[df['screenName'] == 'Paris_trudeau']['friends'].tolist()[0])\n",
    "    target = set(df[df['screenName'] == curr]['friends'].tolist()[0])\n",
    "    print(target.intersection(curr))"
   ]
  }
 ],
 "metadata": {
  "interpreter": {
   "hash": "2be5faf79681da6f2a61fdfdd5405d65d042280f7fba6178067603e3a2925119"
  },
  "kernelspec": {
   "display_name": "Python 3.10.0 64-bit",
   "language": "python",
   "name": "python3"
  },
  "language_info": {
   "name": "python",
   "version": "3.10.0"
  },
  "orig_nbformat": 4
 },
 "nbformat": 4,
 "nbformat_minor": 2
}
